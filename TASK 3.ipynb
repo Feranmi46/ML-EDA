{
 "cells": [
  {
   "cell_type": "code",
   "execution_count": 2,
   "id": "44e3d597-e600-462b-8173-14553ddbbf07",
   "metadata": {},
   "outputs": [],
   "source": [
    "import numpy as np \n",
    "import pandas as pd\n",
    "import seaborn as sns\n",
    "import matplotlib.pyplot as plt"
   ]
  },
  {
   "cell_type": "code",
   "execution_count": 5,
   "id": "6b34a6c5-40ce-4690-933c-2aa2f4e33bdf",
   "metadata": {},
   "outputs": [],
   "source": [
    "df = pd.read_csv(\"Version 1 Cleaned_GenZ_DatingApp_Data.csv\")"
   ]
  },
  {
   "cell_type": "code",
   "execution_count": 6,
   "id": "d9ffba08-59f6-4a33-b1b4-35fc9efd885f",
   "metadata": {},
   "outputs": [],
   "source": [
    "sns.set_style(\"whitegrid\")"
   ]
  },
  {
   "cell_type": "code",
   "execution_count": 8,
   "id": "ce8e9340-afbf-487a-a088-51320cf6536d",
   "metadata": {},
   "outputs": [
    {
     "data": {
      "text/html": [
       "<div>\n",
       "<style scoped>\n",
       "    .dataframe tbody tr th:only-of-type {\n",
       "        vertical-align: middle;\n",
       "    }\n",
       "\n",
       "    .dataframe tbody tr th {\n",
       "        vertical-align: top;\n",
       "    }\n",
       "\n",
       "    .dataframe thead th {\n",
       "        text-align: right;\n",
       "    }\n",
       "</style>\n",
       "<table border=\"1\" class=\"dataframe\">\n",
       "  <thead>\n",
       "    <tr style=\"text-align: right;\">\n",
       "      <th>Primary_App</th>\n",
       "      <th>bumble</th>\n",
       "      <th>hinge</th>\n",
       "      <th>none</th>\n",
       "      <th>okcupid</th>\n",
       "      <th>tinder</th>\n",
       "    </tr>\n",
       "    <tr>\n",
       "      <th>Gender</th>\n",
       "      <th></th>\n",
       "      <th></th>\n",
       "      <th></th>\n",
       "      <th></th>\n",
       "      <th></th>\n",
       "    </tr>\n",
       "  </thead>\n",
       "  <tbody>\n",
       "    <tr>\n",
       "      <th>female</th>\n",
       "      <td>0.267045</td>\n",
       "      <td>0.238636</td>\n",
       "      <td>0.045455</td>\n",
       "      <td>0.284091</td>\n",
       "      <td>0.164773</td>\n",
       "    </tr>\n",
       "    <tr>\n",
       "      <th>male</th>\n",
       "      <td>0.204678</td>\n",
       "      <td>0.216374</td>\n",
       "      <td>0.076023</td>\n",
       "      <td>0.298246</td>\n",
       "      <td>0.204678</td>\n",
       "    </tr>\n",
       "    <tr>\n",
       "      <th>non-binary</th>\n",
       "      <td>0.189542</td>\n",
       "      <td>0.313725</td>\n",
       "      <td>0.065359</td>\n",
       "      <td>0.254902</td>\n",
       "      <td>0.176471</td>\n",
       "    </tr>\n",
       "  </tbody>\n",
       "</table>\n",
       "</div>"
      ],
      "text/plain": [
       "Primary_App    bumble     hinge      none   okcupid    tinder\n",
       "Gender                                                       \n",
       "female       0.267045  0.238636  0.045455  0.284091  0.164773\n",
       "male         0.204678  0.216374  0.076023  0.298246  0.204678\n",
       "non-binary   0.189542  0.313725  0.065359  0.254902  0.176471"
      ]
     },
     "execution_count": 8,
     "metadata": {},
     "output_type": "execute_result"
    }
   ],
   "source": [
    "df.groupby(\"Gender\")[\"Primary_App\"].value_counts(normalize=True).unstack() # Does gender influence dating app preferences?"
   ]
  },
  {
   "cell_type": "code",
   "execution_count": null,
   "id": "e023ce0f-37cf-4f05-ab4f-52f0f46e3520",
   "metadata": {},
   "outputs": [],
   "source": [
    "Question 1: Does gender influence dating app preferences?\n",
    "Yes, there are noticeable differences in dating app preferences across genders:\n",
    "Bumble: More popular among females (26.7%) compared to males (20.4%) and non-binary users (18.9%).\n",
    "Hinge: Highest usage among non-binary individuals (31.3%), followed by females (23.8%) and males (21.6%).\n",
    "Tinder: More evenly distributed but slightly more used by males (20.4%) than females (16.5%).\n",
    "OkCupid: The most commonly used app across all genders."
   ]
  },
  {
   "cell_type": "code",
   "execution_count": 9,
   "id": "a4ea7ee2-bd93-4ecb-afc6-044489aa4b79",
   "metadata": {},
   "outputs": [],
   "source": [
    "multiple_apps_usage = df[\"Secondary_Apps\"].notna().sum()  # Count non-null values in Secondary_Apps\n",
    "total_users = len(df)\n",
    "percentage_using_multiple_apps = (multiple_apps_usage / total_users) * 100"
   ]
  },
  {
   "cell_type": "code",
   "execution_count": 10,
   "id": "d53c86fd-3d57-4f06-8e80-9c89a8238868",
   "metadata": {},
   "outputs": [
    {
     "data": {
      "text/plain": [
       "100.0"
      ]
     },
     "execution_count": 10,
     "metadata": {},
     "output_type": "execute_result"
    }
   ],
   "source": [
    "percentage_using_multiple_apps"
   ]
  },
  {
   "cell_type": "code",
   "execution_count": null,
   "id": "86cd0cff-9323-473c-9221-6d1f537892d6",
   "metadata": {},
   "outputs": [],
   "source": [
    "Are people using multiple dating apps simultaneously?\n",
    "\n",
    "100% of users have at least one secondary dating app.\n",
    "This suggests that multi-app usage is extremely common among Gen Z in India."
   ]
  },
  {
   "cell_type": "code",
   "execution_count": 11,
   "id": "11fea065-b1ae-4590-8cd7-94ba9f93258a",
   "metadata": {},
   "outputs": [
    {
     "data": {
      "text/html": [
       "<div>\n",
       "<style scoped>\n",
       "    .dataframe tbody tr th:only-of-type {\n",
       "        vertical-align: middle;\n",
       "    }\n",
       "\n",
       "    .dataframe tbody tr th {\n",
       "        vertical-align: top;\n",
       "    }\n",
       "\n",
       "    .dataframe thead th {\n",
       "        text-align: right;\n",
       "    }\n",
       "</style>\n",
       "<table border=\"1\" class=\"dataframe\">\n",
       "  <thead>\n",
       "    <tr style=\"text-align: right;\">\n",
       "      <th>Usage_Frequency</th>\n",
       "      <th>daily</th>\n",
       "      <th>monthly</th>\n",
       "      <th>weekly</th>\n",
       "    </tr>\n",
       "    <tr>\n",
       "      <th>Age</th>\n",
       "      <th></th>\n",
       "      <th></th>\n",
       "      <th></th>\n",
       "    </tr>\n",
       "  </thead>\n",
       "  <tbody>\n",
       "    <tr>\n",
       "      <th>18</th>\n",
       "      <td>0.333333</td>\n",
       "      <td>0.298246</td>\n",
       "      <td>0.368421</td>\n",
       "    </tr>\n",
       "    <tr>\n",
       "      <th>19</th>\n",
       "      <td>0.343284</td>\n",
       "      <td>0.328358</td>\n",
       "      <td>0.328358</td>\n",
       "    </tr>\n",
       "    <tr>\n",
       "      <th>20</th>\n",
       "      <td>0.431373</td>\n",
       "      <td>0.294118</td>\n",
       "      <td>0.274510</td>\n",
       "    </tr>\n",
       "    <tr>\n",
       "      <th>21</th>\n",
       "      <td>0.262295</td>\n",
       "      <td>0.377049</td>\n",
       "      <td>0.360656</td>\n",
       "    </tr>\n",
       "    <tr>\n",
       "      <th>22</th>\n",
       "      <td>0.285714</td>\n",
       "      <td>0.396825</td>\n",
       "      <td>0.317460</td>\n",
       "    </tr>\n",
       "    <tr>\n",
       "      <th>23</th>\n",
       "      <td>0.383562</td>\n",
       "      <td>0.260274</td>\n",
       "      <td>0.356164</td>\n",
       "    </tr>\n",
       "    <tr>\n",
       "      <th>24</th>\n",
       "      <td>0.391892</td>\n",
       "      <td>0.243243</td>\n",
       "      <td>0.364865</td>\n",
       "    </tr>\n",
       "    <tr>\n",
       "      <th>25</th>\n",
       "      <td>0.481481</td>\n",
       "      <td>0.351852</td>\n",
       "      <td>0.166667</td>\n",
       "    </tr>\n",
       "  </tbody>\n",
       "</table>\n",
       "</div>"
      ],
      "text/plain": [
       "Usage_Frequency     daily   monthly    weekly\n",
       "Age                                          \n",
       "18               0.333333  0.298246  0.368421\n",
       "19               0.343284  0.328358  0.328358\n",
       "20               0.431373  0.294118  0.274510\n",
       "21               0.262295  0.377049  0.360656\n",
       "22               0.285714  0.396825  0.317460\n",
       "23               0.383562  0.260274  0.356164\n",
       "24               0.391892  0.243243  0.364865\n",
       "25               0.481481  0.351852  0.166667"
      ]
     },
     "execution_count": 11,
     "metadata": {},
     "output_type": "execute_result"
    }
   ],
   "source": [
    "df.groupby(\"Age\")[\"Usage_Frequency\"].value_counts(normalize=True).unstack() # Which age group is most active on dating apps?"
   ]
  },
  {
   "cell_type": "code",
   "execution_count": null,
   "id": "2faec568-0ab0-46bf-846d-bb9832e8c630",
   "metadata": {},
   "outputs": [],
   "source": [
    "Which age group is most active on dating apps?\n",
    "\n",
    "The most active group (highest daily usage rate) is age 25 (48.1%), followed by age 20 (43.1%).\n",
    "Younger users (18-19) have a more balanced distribution across daily, weekly, and monthly usage.\n",
    "Ages 21-22 tend to use dating apps more on a monthly basis."
   ]
  },
  {
   "cell_type": "code",
   "execution_count": 12,
   "id": "c7da7528-fac3-4450-97a4-52b2b4dd7f41",
   "metadata": {},
   "outputs": [
    {
     "data": {
      "image/png": "[encoded data removed]",
      "text/plain": [
       "<Figure size 1000x600 with 2 Axes>"
      ]
     },
     "metadata": {},
     "output_type": "display_data"
    }
   ],
   "source": [
    "# Correlation Matrix & Heatmap\n",
    "numerical_df = df.select_dtypes(include=[np.number])  # Select only numerical columns\n",
    "correlation_matrix = numerical_df.corr()\n",
    "\n",
    "plt.figure(figsize=(10, 6))\n",
    "sns.heatmap(correlation_matrix, annot=True, cmap=\"coolwarm\", linewidths=0.5)\n",
    "plt.title(\"Correlation Matrix of Numerical Variables\")\n",
    "plt.show()"
   ]
  },
  {
   "cell_type": "code",
   "execution_count": 18,
   "id": "6d477489-2117-4df5-912f-5f2e994a1d52",
   "metadata": {},
   "outputs": [
    {
     "data": {
      "text/html": [
       "<div>\n",
       "<style scoped>\n",
       "    .dataframe tbody tr th:only-of-type {\n",
       "        vertical-align: middle;\n",
       "    }\n",
       "\n",
       "    .dataframe tbody tr th {\n",
       "        vertical-align: top;\n",
       "    }\n",
       "\n",
       "    .dataframe thead th {\n",
       "        text-align: right;\n",
       "    }\n",
       "</style>\n",
       "<table border=\"1\" class=\"dataframe\">\n",
       "  <thead>\n",
       "    <tr style=\"text-align: right;\">\n",
       "      <th></th>\n",
       "      <th>Age</th>\n",
       "      <th>(18, 22]</th>\n",
       "      <th>(22, 26]</th>\n",
       "    </tr>\n",
       "    <tr>\n",
       "      <th>Gender</th>\n",
       "      <th>Location</th>\n",
       "      <th></th>\n",
       "      <th></th>\n",
       "    </tr>\n",
       "  </thead>\n",
       "  <tbody>\n",
       "    <tr>\n",
       "      <th rowspan=\"7\" valign=\"top\">female</th>\n",
       "      <th>bangalore</th>\n",
       "      <td>1.611111</td>\n",
       "      <td>2.200000</td>\n",
       "    </tr>\n",
       "    <tr>\n",
       "      <th>chennai</th>\n",
       "      <td>1.281250</td>\n",
       "      <td>1.500000</td>\n",
       "    </tr>\n",
       "    <tr>\n",
       "      <th>delhi</th>\n",
       "      <td>1.888889</td>\n",
       "      <td>1.684211</td>\n",
       "    </tr>\n",
       "    <tr>\n",
       "      <th>hyderabad</th>\n",
       "      <td>2.000000</td>\n",
       "      <td>1.833333</td>\n",
       "    </tr>\n",
       "    <tr>\n",
       "      <th>kolkata</th>\n",
       "      <td>1.500000</td>\n",
       "      <td>2.100000</td>\n",
       "    </tr>\n",
       "    <tr>\n",
       "      <th>mumbai</th>\n",
       "      <td>1.730769</td>\n",
       "      <td>1.500000</td>\n",
       "    </tr>\n",
       "    <tr>\n",
       "      <th>pune</th>\n",
       "      <td>1.633333</td>\n",
       "      <td>1.681818</td>\n",
       "    </tr>\n",
       "    <tr>\n",
       "      <th rowspan=\"7\" valign=\"top\">male</th>\n",
       "      <th>bangalore</th>\n",
       "      <td>1.558824</td>\n",
       "      <td>1.583333</td>\n",
       "    </tr>\n",
       "    <tr>\n",
       "      <th>chennai</th>\n",
       "      <td>1.388889</td>\n",
       "      <td>1.500000</td>\n",
       "    </tr>\n",
       "    <tr>\n",
       "      <th>delhi</th>\n",
       "      <td>1.611111</td>\n",
       "      <td>1.583333</td>\n",
       "    </tr>\n",
       "    <tr>\n",
       "      <th>hyderabad</th>\n",
       "      <td>1.700000</td>\n",
       "      <td>1.833333</td>\n",
       "    </tr>\n",
       "    <tr>\n",
       "      <th>kolkata</th>\n",
       "      <td>1.423077</td>\n",
       "      <td>1.909091</td>\n",
       "    </tr>\n",
       "    <tr>\n",
       "      <th>mumbai</th>\n",
       "      <td>1.750000</td>\n",
       "      <td>1.642857</td>\n",
       "    </tr>\n",
       "    <tr>\n",
       "      <th>pune</th>\n",
       "      <td>1.666667</td>\n",
       "      <td>1.666667</td>\n",
       "    </tr>\n",
       "    <tr>\n",
       "      <th rowspan=\"7\" valign=\"top\">non-binary</th>\n",
       "      <th>bangalore</th>\n",
       "      <td>1.550000</td>\n",
       "      <td>1.200000</td>\n",
       "    </tr>\n",
       "    <tr>\n",
       "      <th>chennai</th>\n",
       "      <td>1.821429</td>\n",
       "      <td>1.500000</td>\n",
       "    </tr>\n",
       "    <tr>\n",
       "      <th>delhi</th>\n",
       "      <td>1.285714</td>\n",
       "      <td>2.000000</td>\n",
       "    </tr>\n",
       "    <tr>\n",
       "      <th>hyderabad</th>\n",
       "      <td>1.666667</td>\n",
       "      <td>2.055556</td>\n",
       "    </tr>\n",
       "    <tr>\n",
       "      <th>kolkata</th>\n",
       "      <td>1.178571</td>\n",
       "      <td>1.166667</td>\n",
       "    </tr>\n",
       "    <tr>\n",
       "      <th>mumbai</th>\n",
       "      <td>1.727273</td>\n",
       "      <td>1.416667</td>\n",
       "    </tr>\n",
       "    <tr>\n",
       "      <th>pune</th>\n",
       "      <td>1.555556</td>\n",
       "      <td>1.812500</td>\n",
       "    </tr>\n",
       "  </tbody>\n",
       "</table>\n",
       "</div>"
      ],
      "text/plain": [
       "Age                   (18, 22]  (22, 26]\n",
       "Gender     Location                     \n",
       "female     bangalore  1.611111  2.200000\n",
       "           chennai    1.281250  1.500000\n",
       "           delhi      1.888889  1.684211\n",
       "           hyderabad  2.000000  1.833333\n",
       "           kolkata    1.500000  2.100000\n",
       "           mumbai     1.730769  1.500000\n",
       "           pune       1.633333  1.681818\n",
       "male       bangalore  1.558824  1.583333\n",
       "           chennai    1.388889  1.500000\n",
       "           delhi      1.611111  1.583333\n",
       "           hyderabad  1.700000  1.833333\n",
       "           kolkata    1.423077  1.909091\n",
       "           mumbai     1.750000  1.642857\n",
       "           pune       1.666667  1.666667\n",
       "non-binary bangalore  1.550000  1.200000\n",
       "           chennai    1.821429  1.500000\n",
       "           delhi      1.285714  2.000000\n",
       "           hyderabad  1.666667  2.055556\n",
       "           kolkata    1.178571  1.166667\n",
       "           mumbai     1.727273  1.416667\n",
       "           pune       1.555556  1.812500"
      ]
     },
     "execution_count": 18,
     "metadata": {},
     "output_type": "execute_result"
    }
   ],
   "source": [
    "pivot_table = df.pivot_table(\n",
    "    values='Daily_Usage_Time',\n",
    "    index=['Gender', 'Location'],\n",
    "    columns=pd.cut(df['Age'], bins=[18, 22, 26, 30, 35, 40]),\n",
    "    aggfunc='mean',\n",
    "    observed = False\n",
    ")\n",
    "pivot_table"
   ]
  },
  {
   "cell_type": "code",
   "execution_count": 19,
   "id": "ddd80a4c-af08-467b-8a1a-5a9af39c5492",
   "metadata": {},
   "outputs": [
    {
     "data": {
      "text/plain": [
       "<Figure size 1000x500 with 0 Axes>"
      ]
     },
     "metadata": {},
     "output_type": "display_data"
    },
    {
     "data": {
      "image/png": "[encoded data removed]",
      "text/plain": [
       "<Figure size 1000x500 with 1 Axes>"
      ]
     },
     "metadata": {},
     "output_type": "display_data"
    }
   ],
   "source": [
    "plt.figure(figsize=(10, 5))\n",
    "gender_app_counts.T.plot(kind=\"bar\", stacked=True, figsize=(10, 5), colormap=\"coolwarm\", edgecolor=\"black\")\n",
    "plt.title(\"Stacked Bar Chart: Dating App Usage by Gender\")\n",
    "plt.ylabel(\"Proportion of Users\")\n",
    "plt.xlabel(\"Dating Apps\")\n",
    "plt.xticks(rotation=45)\n",
    "plt.legend(title=\"Gender\")\n",
    "plt.show()"
   ]
  },
  {
   "cell_type": "code",
   "execution_count": null,
   "id": "c528235f-b026-4df2-99f0-6a9242ed8022",
   "metadata": {},
   "outputs": [],
   "source": []
  }
 ],
 "metadata": {
  "kernelspec": {
   "display_name": "Python 3 (ipykernel)",
   "language": "python",
   "name": "python3"
  },
  "language_info": {
   "codemirror_mode": {
    "name": "ipython",
    "version": 3
   },
   "file_extension": ".py",
   "mimetype": "text/x-python",
   "name": "python",
   "nbconvert_exporter": "python",
   "pygments_lexer": "ipython3",
   "version": "3.12.8"
  }
 },
 "nbformat": 4,
 "nbformat_minor": 5
}
